{
 "cells": [
  {
   "cell_type": "markdown",
   "metadata": {},
   "source": [
    "# Tiny Jupyter notebook demo\n",
    "Check your VS code setup by loading and running this notebook.\n",
    "You will need Jupyter and Julia to be set-up, and VS Code needs to be able to locate and run a Julia kernel.\n",
    "\n",
    "## Initialize packages"
   ]
  },
  {
   "cell_type": "code",
   "execution_count": null,
   "metadata": {},
   "outputs": [],
   "source": [
    "using DynLoco\n",
    "using Plots, Statistics"
   ]
  },
  {
   "cell_type": "markdown",
   "metadata": {},
   "source": [
    "## Tiny demo"
   ]
  },
  {
   "cell_type": "code",
   "execution_count": null,
   "metadata": {},
   "outputs": [],
   "source": [
    "plotlyjs() # Use this backend to preserve fonts on export to SVG or PDF\n",
    "default(grid=false, fontfamily=\"Helvetica\") # no grid on plots\n",
    "\n",
    "wstar4 = findgait(WalkRW2l(α=0.35,safety=true), target=:speed=>0.3, varying=:P)\n",
    "step = onestep(wstar4)\n",
    "simulatestep(wstar4)"
   ]
  },
  {
   "cell_type": "code",
   "execution_count": null,
   "metadata": {},
   "outputs": [],
   "source": []
  }
 ],
 "metadata": {
  "kernelspec": {
   "display_name": "Julia 1.8.3",
   "language": "julia",
   "name": "julia-1.8"
  },
  "language_info": {
   "file_extension": ".jl",
   "mimetype": "application/julia",
   "name": "julia",
   "version": "1.8.3"
  },
  "orig_nbformat": 4
 },
 "nbformat": 4,
 "nbformat_minor": 2
}
