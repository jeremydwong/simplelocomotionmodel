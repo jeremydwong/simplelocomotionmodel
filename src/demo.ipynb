{
  "cells": [
    {
      "cell_type": "raw",
      "metadata": {},
      "source": [
        "---\n",
        "title: DynLoco demo\n",
        "format:\n",
        "  html:\n",
        "    code-fold: true\n",
        "---"
      ],
      "id": "5ecb541a"
    },
    {
      "cell_type": "markdown",
      "metadata": {},
      "source": [
        "## Perform short walks of a range of distances\n",
        "Take walks of varying distances, and show how the optimal trajectory has an inverted-U \n",
        "velocity profile, with peak speed that increases with distance up to about 12 steps.\n",
        "The cost function is total work, plus a linear cost of time with coefficient ctime.\n"
      ],
      "id": "e7d09cb9"
    },
    {
      "cell_type": "code",
      "metadata": {},
      "source": [
        "#| fig-cap: \"Short walks of varying distance\"\n",
        "\n",
        "using DynLoco, Plots; plotlyjs()\n",
        "\n",
        "wstar4 = findgait(WalkRW2l(α=0.35,safety=true), target=:speed=>0.3, varying=:P)\n",
        "ctime = 0.015 # cost of time, to encourage hurrying\n",
        "tchange = 1.75 # boundary condition time to get up to speed (arbitrary, excluded from optimization) \n",
        "p = plot() \n",
        "walksteps = [1, 2, 3, 4, 5, 6, 7, 10, 15, 20] # take walks of this # of steps\n",
        "results = Array{MultiStepResults,1}(undef,0) # store each optimization result here\n",
        "for (i,nsteps) in enumerate(walksteps)\n",
        "    result = optwalktime(wstar4, nsteps, ctime=ctime) # optimize with a cost of time\n",
        "    plotvees!(result, tchange=tchange, usespline=false, color=i, speedtype=:shortwalks, rampuporder=1, markersize=2) # plot instantaneous body speed vs. time\n",
        "    push!(results, result) # add this optimization to results array\n",
        "end\n",
        "Plots.display(p) # instantaneous speed vs. distance profiles"
      ],
      "id": "21fa8024",
      "execution_count": null,
      "outputs": []
    },
    {
      "cell_type": "markdown",
      "metadata": {},
      "source": [
        "## Compare three objectives: Energy-Time, min-COT, constant accel\n",
        "Walk a fixed number of steps, starting and ending at rest. The\n",
        "objectives are:\n",
        "\n",
        "* **Energy-Time** minimizes total energy (positive work) plus proportional time cost\n",
        "* **min-COT** minimizes cost of transport (energy per weight and distance traveled)\n",
        "* **Constant accel** accelerates at a constant rate, to yield a triangular speed profile. Uses a minimum variance objective to \n",
        "produce a constant rate of velocity change.\n",
        "\n",
        "Compare for a fixed number of steps."
      ],
      "id": "421fa68f"
    },
    {
      "cell_type": "code",
      "metadata": {},
      "source": [
        "## Triangle walk, based on min var walk\n",
        "wstar4s = findgait(WalkRW2l(α=0.35,safety=true), target=:speed=>0.5, varying=:P)\n",
        "wstar4n = findgait(WalkRW2l(α=0.35, safety=true), target=:speed=>0.4, varying=:P)\n",
        "nsteps = 10\n",
        "ctime = 0.0195\n",
        "tchange = 1.75\n",
        "nominalmsr=optwalktime(wstar4n, nsteps, ctime = ctime, boundarywork=true) # to compare with our usual solution\n",
        "minvarmsr=optwalkvar(wstar4n, nsteps, boundarywork=true)\n",
        "A = 1.9*wstar4s.vm/(nsteps*onestep(wstar4s).tf)\n",
        "v0 = 0.11#0.8*A*tchange#0.12\n",
        "mintrimsr=optwalktriangle(wstar4n, nsteps, A = A, boundarywork=false,boundaryvels=(v0,v0))\n",
        "p = plot(layout=(1,2))\n",
        "plotvees!(p[1],nominalmsr, tchange=tchange, rampuporder=1, usespline = false, markershape=:circle,speedtype=:shortwalks)\n",
        "plotvees!(p[1],minvarmsr, tchange=tchange, rampuporder=1, usespline = false,markershape=:circle, speedtype=:shortwalks)\n",
        "plotvees!(p[1],mintrimsr, tchange=tchange, rampuporder=1, usespline = false,markershape=:circle, speedtype=:shortwalks, seriescolor=:auto)\n",
        "plot!(p[2],[0:nsteps+1], [1/2*nominalmsr.vm0^2; nominalmsr.steps.Pwork; NaN],markershape=:circle,seriescolor=:auto)\n",
        "plot!(p[2],[0:nsteps+1], [1/2*minvarmsr.vm0^2; minvarmsr.steps.Pwork; NaN],markershape=:circle,xticks=0:nsteps+1)\n",
        "plot!(p[2],[0:nsteps+1], [1/2*mintrimsr.vm0^2; mintrimsr.steps.Pwork; NaN],markershape=:circle,xticks=0:nsteps+1,seriescolor=:auto)\n",
        "plot!(p[2],xlabel=\"step\", ylabel=\"push-off work\", legend=false)\n",
        "energytimework = 1/2*nominalmsr.vm0^2 + sum(nominalmsr.steps.Pwork)\n",
        "mincotwork = 1/2*minvarmsr.vm0^2 + sum(minvarmsr.steps.Pwork)\n",
        "trianglework = (1/2*mintrimsr.vm0^2 + sum(mintrimsr.steps.Pwork))/(1/2*nominalmsr.vm0^2 + sum(nominalmsr.steps.Pwork))\n",
        "Plots.display(p)"
      ],
      "id": "a8a93ec6",
      "execution_count": null,
      "outputs": []
    },
    {
      "cell_type": "markdown",
      "metadata": {},
      "source": [
        "Quantify the three predictions."
      ],
      "id": "fe0c6aff"
    },
    {
      "cell_type": "code",
      "metadata": {},
      "source": [
        "using Markdown\n",
        "println(\"energy-time work = \", 1/2*nominalmsr.vm0^2 + sum(nominalmsr.steps.Pwork))\n",
        "println(\"min-COT = \", 1/2*minvarmsr.vm0^2 + sum(minvarmsr.steps.Pwork))\n",
        "println(\"triangle   = \", 1/2*mintrimsr.vm0^2 + sum(mintrimsr.steps.Pwork))\n",
        "println(\"ratio = \",  (1/2*minvarmsr.vm0^2 + sum(minvarmsr.steps.Pwork))/(1/2*nominalmsr.vm0^2 + sum(nominalmsr.steps.Pwork)) )\n",
        "println(\"ratio = \",  (1/2*mintrimsr.vm0^2 + sum(mintrimsr.steps.Pwork))/(1/2*nominalmsr.vm0^2 + sum(nominalmsr.steps.Pwork)) )\n",
        "#println(\"ratio = \",  (sum(minvarmsr.steps.Pwork))/(sum(nominalmsr.steps.Pwork)) )\n",
        "\n",
        "threecosts = [1/2*nominalmsr.vm0^2 + sum(nominalmsr.steps.Pwork), 1/2*minvarmsr.vm0^2 + sum(minvarmsr.steps.Pwork), 1/2*mintrimsr.vm0^2 + sum(mintrimsr.steps.Pwork)]\n",
        "bar(threecosts,xticks=((1,2,3),(\"Energy-Time\", \"Steady min-COT\", \"Steady accel\")),legend=false)"
      ],
      "id": "da924625",
      "execution_count": null,
      "outputs": []
    },
    {
      "cell_type": "code",
      "metadata": {},
      "source": [
        "using Markdown\n",
        "Markdown.parse(\"\"\"\n",
        "The energy-time work is $(threecosts[1]). \n",
        "The min-COT work is $(threecosts[2]).\n",
        "The const accel work is $(threecosts[3]).\n",
        "\"\"\")"
      ],
      "id": "5acc0ba2",
      "execution_count": null,
      "outputs": []
    },
    {
      "cell_type": "markdown",
      "metadata": {},
      "source": [
        "## Brachistokuo ramp\n",
        "Optimal slope and walk with ramp, compared with flat walking in same amount of time.\n",
        "We find six steps to be pretty good. Longer walks yield a smaller differene because there's more time spent at a steady speed. \n",
        "Note: Currently solving for an asymmetric ramp profile, because pure symmetry constraint is slightly overconstrained for latest Ipopt."
      ],
      "id": "1e017563"
    },
    {
      "cell_type": "code",
      "metadata": {},
      "source": [
        "wstar = findgait(WalkRW2l(α=0.35,safety=true), target=:speed=>0.4, varying=:P)\n",
        "N = 6\n",
        "walktime = N * onestep(wstar).tf *0.82 # meant to be a brisk walk\n",
        "walkdistance = N * onestep(wstar).steplength\n",
        "rampresult = optwalkslope(wstar, N, boundaryvels = (0., 0.), symmetric = false,\n",
        "    totaltime = walktime)\n",
        "p = multistepplot(rampresult; plotwork=true, label=\"ramp\")\n",
        "println(\"ramp total cost = \", rampresult.totalcost)\n",
        "flatresult = optwalk(wstar, N, boundaryvels = (0., 0.),\n",
        "    totaltime = rampresult.totaltime, δs = zeros(6))\n",
        "println(\"flat total cost = \", flatresult.totalcost)\n",
        "multistepplot!(flatresult; plotwork=true, label=\"flat\")\n",
        "# optionally, try a reversed ramp and see if it's higher cost still\n",
        "#concaveresult = optwalk(wstar, 6, boundaryvels = (0.,0.), boundarywork=true,\n",
        "#    totaltime = rampresult.totaltime, δ = -rampresult.δangles)\n",
        "#multistepplot!(concaveresult; plotwork=true)"
      ],
      "id": "6e28f8c7",
      "execution_count": null,
      "outputs": []
    },
    {
      "cell_type": "markdown",
      "metadata": {},
      "source": [
        "### Brachistokuo ramp: Compute the cost for different speeds"
      ],
      "id": "02c38f41"
    },
    {
      "cell_type": "code",
      "metadata": {},
      "source": [
        "walktimes = (0.8:0.05:1.2) * N*onestep(wstar).tf\n",
        "rampresults = Array{MultiStepResults,1}(undef, length(walktimes))\n",
        "flatresults = Array{MultiStepResults,1}(undef, length(walktimes))\n",
        "for (i,walktime) in enumerate(walktimes)\n",
        "    rampresults[i] = optwalk(wstar, N, boundaryvels = (0.,0.),\n",
        "        totaltime = walktime, δs = rampresult.δangles)\n",
        "    flatresults[i] = optwalk(wstar, N, boundaryvels = (0.,0.),\n",
        "        totaltime = walktime, δs = zeros(N))\n",
        "end\n",
        "# plot totalcost vs average speed\n",
        "plot(walkdistance ./ walktimes, [getfield.(rampresults, :totalcost), getfield.(flatresults, :totalcost)],\n",
        "    xlabel=\"Average speed\", ylabel=\"Total Work\", labels=[\"Ramp\" \"Flat\"])"
      ],
      "id": "88477be0",
      "execution_count": null,
      "outputs": []
    },
    {
      "cell_type": "markdown",
      "metadata": {},
      "source": [
        "### Plot the ramp to scale"
      ],
      "id": "bedab2a3"
    },
    {
      "cell_type": "code",
      "metadata": {},
      "source": [
        "plot(onestep(wstar).steplength .* (0:6),cumsum(tan.([0;rampresult.δangles]).*onestep(wstar).steplength),\n",
        "    aspect_ratio=1)\n",
        "sl = onestep(wstar).steplength\n",
        "plot(sl .* [0; cumsum(cos.(rampresult.δangles))],[0; cumsum(sin.(rampresult.δangles))].*sl,\n",
        "    aspect_ratio=1)"
      ],
      "id": "038841c2",
      "execution_count": null,
      "outputs": []
    },
    {
      "cell_type": "markdown",
      "metadata": {},
      "source": [
        "## Short walks of varying slope\n",
        "To be compared with Emily's data"
      ],
      "id": "8534cd0f"
    },
    {
      "cell_type": "code",
      "metadata": {},
      "source": [
        "wstar4s = findgait(WalkRW2l(α=0.4,safety=true), target=:speed=>0.4, varying=:P)\n",
        "myslopes = 0:0.02:0.08\n",
        "p = plot(layout=(2,1))\n",
        "nsteps = 6\n",
        "startv = wstar4.vm\n",
        "for slope in myslopes\n",
        "    # walk up a slope\n",
        "    resultup = optwalktime(wstar4s, nsteps, ctime = ctime, δs=fill(slope, nsteps));\n",
        "    plotvees!(p[1],resultup, tchange=1, title=\"Up\", rampuporder=1)\n",
        "    startv = [resultup.vm0;resultup.steps.vm]\n",
        "\n",
        "    # Walk down a slope\n",
        "    resultdown = optwalktime(wstar4s, nsteps, ctime = ctime, δs=fill(-slope, nsteps));\n",
        "    plotvees!(p[2],resultdown, tchange=1, title=\"Down\", rampuporder=1)\n",
        "end\n",
        "Plots.display(p)"
      ],
      "id": "0fb694f8",
      "execution_count": null,
      "outputs": []
    },
    {
      "cell_type": "markdown",
      "metadata": {},
      "source": [
        "## Todo: Uneven terrain\n",
        "1. Plot uneven terrain profile\n",
        "2. Draw a stick figure model (see Matlab walkrw2 animation)\n",
        "3. Generate automatic superposition figure\n",
        "\n",
        "## Todo: Short walks\n",
        "1. Analyze ramp data (from Emily)\n",
        "2. Analyze different speed data \n",
        "\n",
        "## Step-to-step transitions and energy cost\n",
        "1. Metabolic power for preferred walking\n",
        "2. Inverse dynamics grid data for COM power, work\n",
        "3. Edot = v^3.42 plot\n",
        "\n",
        "## Todo: Mechanics story\n",
        "1. Some nice figures to show energy-time-slope tradeoff\n",
        "2. Step-to-step transition through prediction\n",
        "\n",
        "## Todo: Photos & video of brachistokuo"
      ],
      "id": "d682964f"
    }
  ],
  "metadata": {
    "kernelspec": {
      "name": "julia-1.8",
      "language": "julia",
      "display_name": "Julia 1.8.3"
    }
  },
  "nbformat": 4,
  "nbformat_minor": 5
}